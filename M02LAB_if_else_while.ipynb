{
 "cells": [
  {
   "cell_type": "code",
   "execution_count": 3,
   "id": "9c0a69db",
   "metadata": {},
   "outputs": [
    {
     "name": "stdout",
     "output_type": "stream",
     "text": [
      "Enter the students first name: bob\n",
      "Enter the students last name: blob\n",
      "Enter the students GPA: 3.2\n",
      "Enter the students first name: nick\n",
      "Enter the students last name: fulton\n",
      "Enter the students GPA: 3.4\n",
      "nick fulton has made the Honor Roll\n",
      "Enter the students first name: my\n",
      "Enter the students last name: list\n",
      "Enter the students GPA: 4\n",
      "my list has made the Dean's list\n",
      "Enter the students first name: bs\n",
      "Enter the students last name: lk\n",
      "Enter the students GPA: 4\n",
      "bs lk has made the Dean's list\n",
      "Enter the students first name: bob\n",
      "Enter the students last name: ZZZ\n"
     ]
    }
   ],
   "source": [
    "# Nicholas Fulton\n",
    "# M02LAB_if_else_while\n",
    "# Enter names and GPA's and see if they qualify for Deans list or Honor Roll\n",
    "\n",
    "while True:\n",
    "    fName = input(\"Enter the students first name: \")\n",
    "    lName = input(\"Enter the students last name: \")\n",
    "    if lName == \"ZZZ\":\n",
    "        break\n",
    "    gpa = float(input(\"Enter the students GPA: \"))\n",
    "        \n",
    "    if gpa > 3.5:\n",
    "        print(fName + \" \" + lName + \" has made the Dean's list\")\n",
    "    elif gpa > 3.25:\n",
    "        print(fName + \" \" + lName + \" has made the Honor Roll\")\n",
    "\n"
   ]
  },
  {
   "cell_type": "code",
   "execution_count": null,
   "id": "ae1bc6be",
   "metadata": {},
   "outputs": [],
   "source": []
  }
 ],
 "metadata": {
  "kernelspec": {
   "display_name": "Python 3 (ipykernel)",
   "language": "python",
   "name": "python3"
  },
  "language_info": {
   "codemirror_mode": {
    "name": "ipython",
    "version": 3
   },
   "file_extension": ".py",
   "mimetype": "text/x-python",
   "name": "python",
   "nbconvert_exporter": "python",
   "pygments_lexer": "ipython3",
   "version": "3.9.12"
  }
 },
 "nbformat": 4,
 "nbformat_minor": 5
}

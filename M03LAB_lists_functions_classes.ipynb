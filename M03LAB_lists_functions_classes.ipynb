{
 "cells": [
  {
   "cell_type": "code",
   "execution_count": 8,
   "id": "a6e6abc9",
   "metadata": {},
   "outputs": [
    {
     "name": "stdout",
     "output_type": "stream",
     "text": [
      "What year is your car?: 1999\n",
      "What is your car make?: Mercury\n",
      "What is your car model?: Sable\n",
      "How many doors does your car have?: 4\n",
      "Do you have a solid roof or sunroof?: solid\n",
      "My Vehicle Type: car\n",
      "Year: 1999\n",
      "Make: Mercury\n",
      "Model: Sable\n",
      "Number of doors: 4\n",
      "Solid or Sunroof: solid\n"
     ]
    }
   ],
   "source": [
    "# Nicholas Fulton\n",
    "# M03LAB_lists_functions_classes\n",
    "# Super class Vehicle and a child class Automobile.  App will allow you to add a car with several attributes and then output\n",
    "# those attributes in a formatted way\n",
    "\n",
    "class Vehicle():\n",
    "    def __init__(self, veh_type):\n",
    "        self.veh_type = veh_type\n",
    "    \n",
    "# class Automobile that inherits from parent Vehicle\n",
    "class Automobile(Vehicle):\n",
    "    def __init__(self, veh_type, year, make, model, doors, roof):\n",
    "        super().__init__(veh_type)\n",
    "        self.year = year\n",
    "        self.make = make\n",
    "        self.model = model\n",
    "        self.doors = doors\n",
    "        self.roof = roof\n",
    "        \n",
    "# create variable for vehicle type\n",
    "myVehicleType = \"car\"\n",
    "\n",
    "# input for car attributes\n",
    "myCarYear = input(\"What year is your car?: \")\n",
    "myCarMake = input(\"What is your car make?: \")\n",
    "myCarModel = input(\"What is your car model?: \")\n",
    "myCarDoors = input(\"How many doors does your car have?: \")\n",
    "myRoof = input(\"Do you have a solid roof or sunroof?: \")\n",
    "\n",
    "# create my Automobile class instance\n",
    "myCar = Automobile(myVehicleType, myCarYear, myCarMake, myCarModel, myCarDoors, myRoof)\n",
    "print(\"\")\n",
    "print(\"My Vehicle Type: \" + myCar.veh_type)\n",
    "print(\"Year: \" + myCar.year)\n",
    "print(\"Make: \" + myCar.make)\n",
    "print(\"Model: \" + myCar.model)\n",
    "print(\"Number of doors: \" + myCar.doors)\n",
    "print(\"Solid or Sunroof: \" + myCar.roof)"
   ]
  },
  {
   "cell_type": "code",
   "execution_count": null,
   "id": "b0233779",
   "metadata": {},
   "outputs": [],
   "source": []
  }
 ],
 "metadata": {
  "kernelspec": {
   "display_name": "Python 3 (ipykernel)",
   "language": "python",
   "name": "python3"
  },
  "language_info": {
   "codemirror_mode": {
    "name": "ipython",
    "version": 3
   },
   "file_extension": ".py",
   "mimetype": "text/x-python",
   "name": "python",
   "nbconvert_exporter": "python",
   "pygments_lexer": "ipython3",
   "version": "3.9.12"
  }
 },
 "nbformat": 4,
 "nbformat_minor": 5
}

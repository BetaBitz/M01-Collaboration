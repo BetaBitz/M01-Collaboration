{
 "cells": [
  {
   "cell_type": "code",
   "execution_count": 2,
   "id": "142852f6",
   "metadata": {},
   "outputs": [],
   "source": [
    "seconds_per_hour = 60 * 60"
   ]
  },
  {
   "cell_type": "markdown",
   "id": "e16e1e1e",
   "metadata": {},
   "source": [
    "How many seconds per hour?"
   ]
  },
  {
   "cell_type": "code",
   "execution_count": 5,
   "id": "1a7626e9",
   "metadata": {},
   "outputs": [
    {
     "name": "stdout",
     "output_type": "stream",
     "text": [
      "There are 3600 seconds per hour.\n"
     ]
    }
   ],
   "source": [
    "print(\"There are \" + str(seconds_per_hour) + \" seconds per hour.\")"
   ]
  },
  {
   "cell_type": "markdown",
   "id": "c62fc07b",
   "metadata": {},
   "source": [
    "How many seconds are in a day?"
   ]
  },
  {
   "cell_type": "code",
   "execution_count": 12,
   "id": "9fb58f33",
   "metadata": {},
   "outputs": [
    {
     "name": "stdout",
     "output_type": "stream",
     "text": [
      "There are 86400 seconds in a day.\n"
     ]
    }
   ],
   "source": [
    "seconds_per_day = seconds_per_hour * 24\n",
    "print(\"There are \" + str(seconds_per_day) + \" seconds in a day.\")"
   ]
  },
  {
   "cell_type": "code",
   "execution_count": 13,
   "id": "64a77101",
   "metadata": {},
   "outputs": [
    {
     "data": {
      "text/plain": [
       "24.0"
      ]
     },
     "execution_count": 13,
     "metadata": {},
     "output_type": "execute_result"
    }
   ],
   "source": [
    "seconds_per_day / seconds_per_hour"
   ]
  },
  {
   "cell_type": "code",
   "execution_count": 14,
   "id": "208144ac",
   "metadata": {},
   "outputs": [
    {
     "data": {
      "text/plain": [
       "24"
      ]
     },
     "execution_count": 14,
     "metadata": {},
     "output_type": "execute_result"
    }
   ],
   "source": [
    "seconds_per_day // seconds_per_hour"
   ]
  },
  {
   "cell_type": "markdown",
   "id": "7ea2aeb9",
   "metadata": {},
   "source": [
    "The results of floating point and integer division are the same value minus the decimal point."
   ]
  }
 ],
 "metadata": {
  "kernelspec": {
   "display_name": "Python 3 (ipykernel)",
   "language": "python",
   "name": "python3"
  },
  "language_info": {
   "codemirror_mode": {
    "name": "ipython",
    "version": 3
   },
   "file_extension": ".py",
   "mimetype": "text/x-python",
   "name": "python",
   "nbconvert_exporter": "python",
   "pygments_lexer": "ipython3",
   "version": "3.9.12"
  }
 },
 "nbformat": 4,
 "nbformat_minor": 5
}

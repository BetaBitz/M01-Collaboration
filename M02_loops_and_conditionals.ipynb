{
 "cells": [
  {
   "cell_type": "code",
   "execution_count": 3,
   "id": "29355651",
   "metadata": {},
   "outputs": [
    {
     "name": "stdout",
     "output_type": "stream",
     "text": [
      "too low\n"
     ]
    }
   ],
   "source": [
    "# 4.1\n",
    "secret = 5\n",
    "guess = 2\n",
    "\n",
    "if guess == secret:\n",
    "    print(\"just right\")\n",
    "elif guess < secret:\n",
    "    print(\"too low\")\n",
    "else: \n",
    "    print(\"too high\")"
   ]
  },
  {
   "cell_type": "code",
   "execution_count": 9,
   "id": "f4f61f80",
   "metadata": {},
   "outputs": [
    {
     "name": "stdout",
     "output_type": "stream",
     "text": [
      "This is a watermellon\n"
     ]
    }
   ],
   "source": [
    "# 4.2\n",
    "small = False\n",
    "green = True\n",
    "\n",
    "# cherry is small and red\n",
    "# pea is small and green\n",
    "# watermellon is large and green\n",
    "# pumpkin is large and orange\n",
    "\n",
    "# print item that is large and green\n",
    "\n",
    "if small == False & green:\n",
    "    print(\"This is a watermellon\")\n",
    "elif small == False & green == False:\n",
    "    print(\"This is a pumpkin\")\n",
    "elif small == True & green:\n",
    "    print(\"This is a pea\")\n",
    "else:\n",
    "    print(\"This is a cherry\")\n"
   ]
  },
  {
   "cell_type": "code",
   "execution_count": 12,
   "id": "bb974430",
   "metadata": {},
   "outputs": [
    {
     "name": "stdout",
     "output_type": "stream",
     "text": [
      "3\n",
      "2\n",
      "1\n",
      "0\n"
     ]
    }
   ],
   "source": [
    "# 6.1\n",
    "myList = [3, 2, 1, 0]\n",
    "\n",
    "for num in myList:\n",
    "    print(num)"
   ]
  },
  {
   "cell_type": "code",
   "execution_count": 14,
   "id": "e1ec22f4",
   "metadata": {},
   "outputs": [
    {
     "name": "stdout",
     "output_type": "stream",
     "text": [
      "too low\n",
      "too low\n",
      "too low\n",
      "too low\n",
      "too low\n",
      "too low\n",
      " found it!\n"
     ]
    }
   ],
   "source": [
    "# 6.2\n",
    "guess_me = 7\n",
    "number = 1\n",
    "\n",
    "while number < guess_me + 1:\n",
    "    if number < guess_me:\n",
    "        print(\"too low\")\n",
    "    elif number == guess_me:\n",
    "        print(\" found it!\")\n",
    "    elif number > guess_me:\n",
    "        print(\"oops\")\n",
    "        break\n",
    "    number += 1"
   ]
  },
  {
   "cell_type": "code",
   "execution_count": 15,
   "id": "4fc87073",
   "metadata": {},
   "outputs": [
    {
     "name": "stdout",
     "output_type": "stream",
     "text": [
      " too low\n",
      " too low\n",
      " too low\n",
      " too low\n",
      " too low\n",
      "fount it!\n"
     ]
    }
   ],
   "source": [
    "# 6.3\n",
    "guess_me = 5\n",
    "\n",
    "for number in range(10):\n",
    "    if number < guess_me:\n",
    "        print(\" too low\")\n",
    "    elif number == guess_me:\n",
    "        print(\"fount it!\")\n",
    "        break\n",
    "    elif number > guess_me:\n",
    "        print(\"oops\")\n",
    "        break\n",
    "        "
   ]
  },
  {
   "cell_type": "code",
   "execution_count": null,
   "id": "826bc87f",
   "metadata": {},
   "outputs": [],
   "source": []
  }
 ],
 "metadata": {
  "kernelspec": {
   "display_name": "Python 3 (ipykernel)",
   "language": "python",
   "name": "python3"
  },
  "language_info": {
   "codemirror_mode": {
    "name": "ipython",
    "version": 3
   },
   "file_extension": ".py",
   "mimetype": "text/x-python",
   "name": "python",
   "nbconvert_exporter": "python",
   "pygments_lexer": "ipython3",
   "version": "3.9.12"
  }
 },
 "nbformat": 4,
 "nbformat_minor": 5
}
